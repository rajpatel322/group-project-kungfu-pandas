{
 "cells": [
  {
   "cell_type": "markdown",
   "metadata": {},
   "source": [
    "## Chicago Crime Investigation Final Report\n",
    "<h1 style=\"font-size: 14px\"><I>Team KungFu Pandas: Raj Patel, Ayush Jamindar, Amrita Rajesh, Saloni Mhatre, Lakshmi Krishna</I></h1>\n",
    "<img src=\"https://static1.moviewebimages.com/wordpress/wp-content/uploads/2023/06/the-kung-fu-masters-of-the-jade-palace.jpg\" width=300></img>\n",
    "\n",
    "link to the notebook - https://github.com/uic-cs418/group-project-kungfu-pandas/blob/main/Final_Report.ipynb"
   ]
  },
  {
   "cell_type": "markdown",
   "metadata": {},
   "source": [
    "#### Project Introduction\n",
    "\n",
    "<h6 style='font-size : 12px'>\n",
    "We are analyzing two datasets involving Chicago crime and housing. The crime dataset and housing dataset are publicly available at :\n",
    "\n",
    "- Chicago Crime Data Source: https://data.cityofchicago.org/Public-Safety/Crimes-2001-to-Present/ijzp-q8t2/about_data\n",
    "- Zillow Data Source: https://www.zillow.com/research/data/\n",
    "\n",
    "Our inquiries: <i>Which neighborhood is the least safe to move into? Is there a relationship between housing prices and crime in Chicago?  Has crime rates increased after post-covid compare to pre-covid? What are the most common type of crime committed in Chicago area?</i>\n",
    "\n",
    "Initial hypotheses: <i> There is a negative correlation between crime activity and house prices. As time progresses,  crime will increase. </i>\n",
    "</h6>"
   ]
  },
  {
   "cell_type": "markdown",
   "metadata": {},
   "source": [
    "<h5 style=\"font-size: 16px\">\n",
    "\n",
    "`IMPORTANT NOTE`: \n",
    "</h5>\n",
    "\n",
    "<h1 style=\"font-size: 14px\">\n",
    "Please create a folder called `csv_files`. This will contain all the CSV files so after downloading the data, please put it in this folder.\n",
    "\n"
   ]
  },
  {
   "cell_type": "code",
   "execution_count": 5,
   "metadata": {},
   "outputs": [],
   "source": [
    "import pandas as pd\n",
    "import numpy as np\n",
    "from CleaningPR import *\n",
    "from ML_pr import *\n",
    "from Visualization1 import *\n",
    "from Visualization2_Battery import *\n",
    "from Visualization2_Theft import *\n",
    "from Visualization3_Battery import *\n",
    "from Visualization3_Theft import *\n",
    "from t_test import *\n",
    "from EDA_pr import *\n",
    "from sklearn.linear_model import LogisticRegression\n",
    "from sklearn.preprocessing import OneHotEncoder"
   ]
  },
  {
   "cell_type": "markdown",
   "metadata": {},
   "source": [
    "#### Data Cleaning Process\n",
    "<!-- <div><img src= 'https://cdn-icons-png.flaticon.com/512/10179/10179118.png' width=100></div> -->\n",
    "<h6 style=\"font-size: 12px\">\n",
    "The following steps are to manipulate and clean the datasets. After obtaining the size, dimensions, and summary of the data, some columns and rows were dropped, more features were added, and dataframes were combined to be stored into seperate CSV files for easy access.  \n",
    "\n",
    "- The crime dataset contains information about the reported crimes that took place in Chicago from `January 2001` to `February 2024`\n",
    "- Granularity: Each row in this data represents individual crimes with details about each crime such as ID, Case Number, Date etc.\n",
    "- Data contains `~8 million` records and will go to `~1.4 million` records after filtering\n",
    "- First, the dates were converted to a timestamp, then the unecessary columns were dropped such as block, latitide, longitude etc. Next, the data was filtered and then the resulting dataframe was saved into the following seperate CSV files: (`Crimes_2017_to_2019.csv`, `Crimes_2021_to_Present.csv`, `Crimes_2014.csv`)\n",
    "    </h6>"
   ]
  },
  {
   "cell_type": "code",
   "execution_count": 6,
   "metadata": {},
   "outputs": [],
   "source": [
    "crime_data = pd.read_csv('csv_files/Crimes_2001_to_Present.csv')"
   ]
  },
  {
   "cell_type": "code",
   "execution_count": 7,
   "metadata": {},
   "outputs": [
    {
     "name": "stdout",
     "output_type": "stream",
     "text": [
      "Columns:  ['ID', 'New_Date', 'Primary Type', 'Location Description', 'Arrest', 'Community Area', 'RegionName']\n"
     ]
    }
   ],
   "source": [
    "'''\n",
    "    cleanCrimeData method will perform Step 1,2,3 and 4.\n",
    "    if want to see the cleaned version of pre-covid, post-covid crime data and decade crime data\n",
    "    then try opening and printing the head of `Crimes_2017_to_2019.csv`, `Crimes_2021_to_Present.csv`, `Crimes_2014.csv`\n",
    "'''\n",
    "cleanCrimeData(crime_data)"
   ]
  },
  {
   "cell_type": "markdown",
   "metadata": {},
   "source": [
    "<h1 style=\"font-size: 16px\"> Neighborhood Dataset Information and Cleaning </h1>\n",
    "<h1 style=\"font-size: 12px\">\n",
    "\n",
    "- The data below is from Zillow and it shows the average house price for each nighborhood in the country\n",
    "- Granularity: Each row represents a neighborhood in a state and shows the average house price for each month from `1-31-2000` to `1-31-2024`\n",
    "- Contains average monthly prices for real estate of around `~21000` neighborhoods across the U.S. and filters down to `181` neighborhoods in Chicago\n",
    "- First, the data from Chicago neighborhoods specifically was extracted. Next, the data was transposed by reseting the index, rotating the dataframe to flip the columns and rows and allows for easier manipulation. Finally the dataframe was filtered for pre and post covid and saved into (`neighborhood_data_2017_to_2019.csv`, `neighborhood_data_2021_present.csv`)</h1>"
   ]
  },
  {
   "cell_type": "code",
   "execution_count": 8,
   "metadata": {},
   "outputs": [],
   "source": [
    "neighborhood_data = pd.read_csv('csv_files/Neighborhood_House_Price.csv')"
   ]
  },
  {
   "cell_type": "code",
   "execution_count": 9,
   "metadata": {},
   "outputs": [],
   "source": [
    "''' cleanHousingData method will perform Step 1,2,and 3. \n",
    "    if want to see the cleaned version of pre-covid and post-covid data then \n",
    "    try opening and printing the head of `neighborhood_data_2017_to_2019.csv`, `neighborhood_data_2021_present.csv` '''\n",
    "cleanHousingData(neighborhood_data) "
   ]
  },
  {
   "cell_type": "markdown",
   "metadata": {},
   "source": [
    "#### Exploratory Data Analysis\n",
    "<h6 style=\"font-size: 14px\">Neighborhood Data Exploration</h6>\n",
    "<h1 style=\"font-size: 12px \">\n",
    "Exploring the neighborhood dataset, we seperated the dataset into two CSV files for pre and post Covid.<br>\n",
    "Between 2017 and 2019, neighborhood prices were like this: the average minimum was about \\$ 227,167, and the average maximum was roughly \\$ 255,476. Median for the minimum price was \\$ 212,369 and for maximum price was \\$ 242,843. The cheapest house was in Golden Gate, selling for \\$ 25,263 in January 2017, while the most expensive was in North Center, priced at \\$ 585,357 in May 2018. In terms of neighborhoods, Golden Gate was the cheapest, averaging about \\$ 37,259, while North Center was the most expensive, averaging around \\$ 573,486. The month with the most crime commited is July with 73,950 incidents and the month with the least is February with 54,432 incidents.\n",
    "<br><br>\n",
    "Since 2021, neighborhood prices have risen slightly, with average minimums around \\$ 264,326 and maximums hitting about \\$ 299,737. The cheapest house, in Golden Gate, was priced at \\$ 55,618 in January 2021, while the most expensive, in North Center, was priced at \\$ 696,986 in November 2023. Ford City is the most affordable neighborhood, averaging around \\$ 68,129, whereas Ravenswood Manor is the most expensive, averaging approximately \\$ 655,319. The month with the most crime commited is January with 70,657 incidents and the month with the least is February with 51,792 incidents.\n",
    "</h1>\n",
    "<!-- <div><img src= 'https://cdn-blog.scalablepath.com/uploads/2021/06/exploratory-data-analysis-900x615-1.png' width=100></div> -->"
   ]
  },
  {
   "cell_type": "code",
   "execution_count": 10,
   "metadata": {},
   "outputs": [],
   "source": [
    "neighborhood_2017_2019 = pd.read_csv('csv_files/neighborhood_data_2017_2019.csv')\n",
    "neighborhood_2021_present = pd.read_csv('csv_files/neighborhood_data_2021_present.csv')\n",
    "crime_data1 = pd.read_csv('csv_files/Crimes_2017_to_2019.csv')\n",
    "crime_data2= pd.read_csv('csv_files/Crimes_2021_to_Present.csv')"
   ]
  },
  {
   "cell_type": "code",
   "execution_count": 11,
   "metadata": {},
   "outputs": [],
   "source": [
    "# To see the output you can uncomment one by one to see\n",
    "# get_neighborhood_price_stats(neighborhood_2017_2019)\n",
    "# get_neighborhood_price_stats(neighborhood_2021_present)"
   ]
  },
  {
   "cell_type": "markdown",
   "metadata": {},
   "source": [
    "<h6 style=\"font-size: 14px\"> Crime Data Exploration </h6>\n",
    "\n",
    "<h6 style=\"font-size: 12px\"> For the years 2017-2019, the least common crime type is arson, while the most common is weapons violation. Edison Park had the fewest arrests, totaling 79, whereas Austin had the most, with a staggering 11,443 arrests. For overall crime, Edison Park had the lowest number, with 777 incidents, while Austin had the highest, with 44,856 incidents. The top five locations for crime include streets with 174,926 incidents, residences with 131,615 incidents, apartments with 101,710 incidents, sidewalks with 62,242 incidents, and other locations with 31,925 incidents. On the other hand, the top five locations with the least crime each had only one incident: YMCA, railroad property, rooming house, office, and nursing home.\n",
    "<br><br>\n",
    "From 2021 onwards, The least common crime is arson, while the most common is weapons violation. Edison Park had the fewest arrests, totaling 63, while Austin had the most, with 5,743 arrests. For overall crime, Edison Park had the lowest number, with 838 incidents, while Austin had the highest, with 37,281 incidents. The top five locations for crime include streets with 203,027 incidents, apartments with 141,976 incidents, residences with 95,109 incidents, sidewalks with 37,672 incidents, and parking lots/garages (non-residential) with 26,416 incidents. On the other hand, the top five locations with the least crime each had only one incident: farm, banquet hall, CTA subway station, elevator, and basement.\n",
    "</h6>\n",
    "\n"
   ]
  },
  {
   "cell_type": "code",
   "execution_count": 12,
   "metadata": {},
   "outputs": [],
   "source": [
    "# These are the EDA functions which contain the code, feel free to uncomment and run them :)\n",
    "# get_crime_stats(crime_data1)\n",
    "# get_crime_stats(crime_data2)"
   ]
  },
  {
   "cell_type": "markdown",
   "metadata": {},
   "source": [
    "#### Machine Learning\n",
    "<h1 style=\"font-size: 12px\">\n",
    "We began by splitting the decade crime data from crime_data_2014.csv into training and testing sets to ensure we didn't touch the testing data initially. Next, we determined the best feature(s) for predicting arrest probability using logistic regression. This involved encoding string variables into 0s and 1s for easier model fitting, employing k-fold cross-validation to evaluate model performance, and ultimately selecting the feature combination yielding the highest accuracy.\n",
    "<br><br>\n",
    "Comparing our logistic regression model, which incorporates Primary Type, Location Description, and RegionName, against a baseline model using mode prediction, we found an 87% accuracy improvement with the logistic regression model.\n",
    "\n",
    "Then, we trained the LogisticRegression Model using the best feature determined earlier on the same training set, avoiding the creation of a new one. This involved training the model, testing it, and creating a new dataframe for further analysis.\n",
    "\n",
    "</h1>\n",
    "\n"
   ]
  },
  {
   "cell_type": "code",
   "execution_count": null,
   "metadata": {},
   "outputs": [
    {
     "name": "stdout",
     "output_type": "stream",
     "text": [
      "length of the training dataset 2008524\n",
      "Best Features ['Primary Type', 'Location Description', 'RegionName'] Accuracy of Logistic Regression:  0.8786626398290486\n",
      "Accuracy of the baseline model:  0.8083941242424786\n",
      "Accuracy of the model on the test dataset: 0.8786813029243307\n"
     ]
    },
    {
     "data": {
      "text/html": [
       "<div>\n",
       "<style scoped>\n",
       "    .dataframe tbody tr th:only-of-type {\n",
       "        vertical-align: middle;\n",
       "    }\n",
       "\n",
       "    .dataframe tbody tr th {\n",
       "        vertical-align: top;\n",
       "    }\n",
       "\n",
       "    .dataframe thead th {\n",
       "        text-align: right;\n",
       "    }\n",
       "</style>\n",
       "<table border=\"1\" class=\"dataframe\">\n",
       "  <thead>\n",
       "    <tr style=\"text-align: right;\">\n",
       "      <th></th>\n",
       "      <th>Primary Type</th>\n",
       "      <th>Location Description</th>\n",
       "      <th>RegionName</th>\n",
       "      <th>Prob</th>\n",
       "    </tr>\n",
       "  </thead>\n",
       "  <tbody>\n",
       "    <tr>\n",
       "      <th>2178855</th>\n",
       "      <td>THEFT</td>\n",
       "      <td>SIDEWALK</td>\n",
       "      <td>Loop</td>\n",
       "      <td>0.071568</td>\n",
       "    </tr>\n",
       "    <tr>\n",
       "      <th>1869478</th>\n",
       "      <td>ASSAULT</td>\n",
       "      <td>ALLEY</td>\n",
       "      <td>Lake View</td>\n",
       "      <td>0.112260</td>\n",
       "    </tr>\n",
       "    <tr>\n",
       "      <th>1299827</th>\n",
       "      <td>THEFT</td>\n",
       "      <td>SIDEWALK</td>\n",
       "      <td>Englewood</td>\n",
       "      <td>0.076976</td>\n",
       "    </tr>\n",
       "    <tr>\n",
       "      <th>1024670</th>\n",
       "      <td>THEFT</td>\n",
       "      <td>SIDEWALK</td>\n",
       "      <td>West Town</td>\n",
       "      <td>0.054855</td>\n",
       "    </tr>\n",
       "    <tr>\n",
       "      <th>229033</th>\n",
       "      <td>BATTERY</td>\n",
       "      <td>STREET</td>\n",
       "      <td>Near South Side</td>\n",
       "      <td>0.200898</td>\n",
       "    </tr>\n",
       "  </tbody>\n",
       "</table>\n",
       "</div>"
      ],
      "text/plain": [
       "        Primary Type Location Description       RegionName      Prob\n",
       "2178855        THEFT             SIDEWALK             Loop  0.071568\n",
       "1869478      ASSAULT                ALLEY        Lake View  0.112260\n",
       "1299827        THEFT             SIDEWALK        Englewood  0.076976\n",
       "1024670        THEFT             SIDEWALK        West Town  0.054855\n",
       "229033       BATTERY               STREET  Near South Side  0.200898"
      ]
     },
     "metadata": {},
     "output_type": "display_data"
    }
   ],
   "source": [
    "crime_data_2014 = pd.read_csv('csv_files/Crimes_2014.csv')\n",
    "'''\n",
    "    Step 1: Spliting\n",
    "'''\n",
    "X = crime_data_2014[['Primary Type', 'Location Description', 'RegionName']]\n",
    "y = crime_data_2014['Arrest'] \n",
    "X_train, X_test, y_train, y_test = train_test_split(X, y, test_size=0.2, random_state=42) # 80% training, 20% testing\n",
    "print(\"length of the training dataset\",len(X_train))\n",
    "\n",
    "'''\n",
    "    best_feature method will perform step 2 and 3\n",
    "'''\n",
    "feature = best_feature(crime_data_2014, X_train, y_train)\n",
    "\n",
    "''' train_test method will perform step 4 '''\n",
    "train_test(X_train, X_test, y_train, y_test, feature) # Uses Logistic Regression Model to train and test our model\n"
   ]
  },
  {
   "cell_type": "markdown",
   "metadata": {},
   "source": [
    "</b> Model Usage\n",
    "\n",
    "<h1 style=\"font-size:12px\">\n",
    "\n",
    "Firstly we trained our model using the crime data from the past decade(2014-present) so that it can learn as much as possible. Then our stakeholder `Residents of Chicago, UIC students, new settlers and Chicago Police Department` can predict the probabilty of a person getting arrested based on the type of crime, neighborhood, and description of the location. This will be beneficial to determine how safe a neighborhood is. Our model will not give 100% accuracy on the prediction but it will predict the outcome 87.86% of the time correctly, this is significant becuase our model is not overfitting. In other terms, it be able to predict almost 9 out of 10 outcomes correctly. </h1>"
   ]
  },
  {
   "cell_type": "markdown",
   "metadata": {},
   "source": [
    "#### Visualizations"
   ]
  },
  {
   "cell_type": "markdown",
   "metadata": {},
   "source": [
    "<h4><i>Theft and Battery are the most frequently committed crimes</i></h4>\n",
    "<!-- <div><img src= 'https://media.sproutsocial.com/uploads/2023/10/Data-Visualization-Final.jpg' width=100></div> -->"
   ]
  },
  {
   "cell_type": "markdown",
   "metadata": {},
   "source": [
    "<img src=\"Heatmap_1.png\" width=750>"
   ]
  },
  {
   "cell_type": "markdown",
   "metadata": {},
   "source": [
    "<h1 style=\"font-size: 14px\"> Findings: Heatmap</h1>\n",
    "<h1 style=\"font-size: 12px\"> This heatmap looks at frequency of crime in the top 16 closest neighborhoods to UIC. The populations of neighborhoods are standardized by calculating the crime rate per 1000 people and the types of crimes were arranged from most to least frequent. This visualization shows that theft and battery are the most frequently committed crimes especially in the Loop for the former and North Lawndale and West Garfield Park for the latter. This information led to inquiries about whether the affluence of a neighborhood had an effect on theft and battery.\n",
    "</h1>"
   ]
  },
  {
   "cell_type": "markdown",
   "metadata": {},
   "source": [
    "<h4><i>In theft, there is no apparent relationship between crime quartiles and housing price</i></h4>\n",
    "<!-- <div><img src= 'https://media.sproutsocial.com/uploads/2023/10/Data-Visualization-Final.jpg' width=100></div> -->\n",
    "<h4><i>In battery, as crime quartile increases, housing price goes down</i></h4>\n",
    "<!-- <div><img src= 'https://media.sproutsocial.com/uploads/2023/10/Data-Visualization-Final.jpg' width=100></div> -->"
   ]
  },
  {
   "cell_type": "markdown",
   "metadata": {},
   "source": [
    "<div style=\"display: flex; justify-content: start;\">\n",
    "  <img src=\"Visualization2_Theft.png\" alt=\"Theft Data\" width=300>\n",
    "  <img src=\"Visualization2_Battery.png\" alt=\"Battery Data\" width=300>\n",
    "</div>"
   ]
  },
  {
   "cell_type": "markdown",
   "metadata": {},
   "source": [
    "<h1 style=\"font-size: 14px\"> Findings: Boxplots</h1>\n",
    "<h1 style=\"font-size: 12px\"> These boxplots show housing price on the y-axis and crime was divided into four quartiles on the x-axis. Theft and battery were the main focuses as they were the most frequently committed crimes. For theft, there is no apparent relationship between theft and housing prices. However for battery, it seems that as the housing prices go up, there is less battery. This leads to the conclusion that the most battery occurs in the less wealthy neighborhoods.\n",
    "\n",
    "</h1>"
   ]
  },
  {
   "cell_type": "markdown",
   "metadata": {},
   "source": [
    "<h4><i>There is a significant decrease in theft between post-covid compared to pre covid </i></h4>\n",
    "<!-- <div><img src= 'https://media.sproutsocial.com/uploads/2023/10/Data-Visualization-Final.jpg' width=100></div> -->"
   ]
  },
  {
   "cell_type": "markdown",
   "metadata": {},
   "source": [
    "<img src=\"Visualization3_Theft.png\" width=600>\n",
    "\n",
    "<h1 style=\"font-size: 12px\"> This histogram looks at frequency of theft from pre to post covid. The populations of neighborhoods are again standardized by calculating the crime rate per 1000 people and the the x axis shows the changes in the top 10 closest neighborhoods to UIC. There seems to be a sizable decrease in theft post covid compared to precovid, so a t-test was performed to test if that was the case (shown below). The p value < 0.05 and the tstat > 0 so the null hypothesis was rejected and a conclusion was drawn our initial hypothesis was wrong: there is a significant decrease in theft post COVID compared to pre COVID. \n",
    "</h1>"
   ]
  },
  {
   "cell_type": "markdown",
   "metadata": {},
   "source": [
    "#### Statistical Analysis"
   ]
  },
  {
   "cell_type": "code",
   "execution_count": 13,
   "metadata": {},
   "outputs": [
    {
     "name": "stdout",
     "output_type": "stream",
     "text": [
      "3.294241116171095 0.009315091584718934\n",
      "Reject the NULL Hypothesis: There is a significant decrease in theft post COVID compared to pre COVID\n"
     ]
    }
   ],
   "source": [
    "pre = pd.read_csv('csv_files/Crimes_2017_to_2019.csv')\n",
    "post = pd.read_csv('csv_files/Crimes_2021_to_Present.csv')\n",
    "ttest_uic_theft(pre, post)\n"
   ]
  },
  {
   "cell_type": "markdown",
   "metadata": {},
   "source": [
    "<h3><i>There is no significant change in battery between post-covid compared to pre covid </i></h3>\n",
    "<!-- <div><img src= 'https://media.sproutsocial.com/uploads/2023/10/Data-Visualization-Final.jpg' width=100></div> -->"
   ]
  },
  {
   "cell_type": "markdown",
   "metadata": {},
   "source": [
    "<img src=\"Visualization3_Battery.png\" width=600>\n",
    "\n",
    "<h1 style=\"font-size: 12px\"> This histogram looks at frequency of battery from pre to post covid. The populations of neighborhoods are again standardized by calculating the crime rate per 1000 people and the the x axis shows the changes in the top 10 closest neighborhoods to UIC. There does not seem to be a significant change between precovid and postcovid and a t-test was performed to confirm that (shown below). The p value was greater 0.05 so there was not sufficient enough proof to reject the null hypothesis and a conclusion was drawn our initial hypothesis was wrong: there is no significant change in battery between pre and post covid. \n",
    "</h1>"
   ]
  },
  {
   "cell_type": "code",
   "execution_count": 14,
   "metadata": {},
   "outputs": [
    {
     "name": "stdout",
     "output_type": "stream",
     "text": [
      "1.5145965886948978 0.16417466325645683\n",
      "Fail to reject the NULL hypothesis: There is no significant difference in battery between pre and post covid\n"
     ]
    }
   ],
   "source": [
    "ttest_uic_battery(pre, post)\n"
   ]
  },
  {
   "cell_type": "markdown",
   "metadata": {},
   "source": [
    "#### Main Takeaways\n",
    "<h1 style=\"font-size: 12px\">\n",
    "\n",
    "- Theft and battery were the most frequently committed crimes out of all the crimes done in Chicago\n",
    "- There is inverse relationship between housing prices and battery (Expensive houses tends to have lower battery cases)\n",
    "- There is no direct relationship between housing prices and theft (Expensive houses still tend to have higher theft crime compare to cheaper houses)\n",
    "- There has been a decrease in theft post covid compared to pre covid in the neighborhoods near UIC\n",
    "- There was no significant change in battery between pre and post covid near UIC\n",
    "- Our model is able to predict about 88% accurately about the outcome of arrest based on type of crime, neighborhood and description of crime.\n",
    "\n",
    "</h1>"
   ]
  },
  {
   "cell_type": "markdown",
   "metadata": {},
   "source": [
    "<H2><I>END OF REPORT<I><H2>\n",
    "\n",
    "<img src=\"https://i.pinimg.com/564x/a9/b4/d4/a9b4d4ef2f85697b546760a1d8da4bcc.jpg\" width=300px>"
   ]
  }
 ],
 "metadata": {
  "kernelspec": {
   "display_name": "Python 3 (ipykernel)",
   "language": "python",
   "name": "python3"
  },
  "language_info": {
   "codemirror_mode": {
    "name": "ipython",
    "version": 3
   },
   "file_extension": ".py",
   "mimetype": "text/x-python",
   "name": "python",
   "nbconvert_exporter": "python",
   "pygments_lexer": "ipython3",
   "version": "3.11.5"
  }
 },
 "nbformat": 4,
 "nbformat_minor": 2
}
